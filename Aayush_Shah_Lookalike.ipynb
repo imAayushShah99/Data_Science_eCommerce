{
  "nbformat": 4,
  "nbformat_minor": 0,
  "metadata": {
    "colab": {
      "provenance": []
    },
    "kernelspec": {
      "name": "python3",
      "display_name": "Python 3"
    },
    "language_info": {
      "name": "python"
    }
  },
  "cells": [
    {
      "cell_type": "code",
      "source": [
        "import pandas as pd\n",
        "\n",
        "customers = pd.read_csv(\"Customers.csv\")\n",
        "products = pd.read_csv(\"Products.csv\")\n",
        "transactions = pd.read_csv(\"Transactions.csv\")\n",
        "\n",
        "print(\"Customers Data:\")\n",
        "print(customers.head())\n",
        "\n",
        "print(\"\\nProducts Data:\")\n",
        "print(products.head())\n",
        "\n",
        "print(\"\\nTransactions Data:\")\n",
        "print(transactions.head())"
      ],
      "metadata": {
        "colab": {
          "base_uri": "https://localhost:8080/"
        },
        "id": "rRcWgYFL-HhR",
        "outputId": "0fbdcc58-47e2-4081-8f71-583f9b4340ee"
      },
      "execution_count": 18,
      "outputs": [
        {
          "output_type": "stream",
          "name": "stdout",
          "text": [
            "Customers Data:\n",
            "  CustomerID        CustomerName         Region  SignupDate\n",
            "0      C0001    Lawrence Carroll  South America  10-07-2022\n",
            "1      C0002      Elizabeth Lutz           Asia  13-02-2022\n",
            "2      C0003      Michael Rivera  South America  07-03-2024\n",
            "3      C0004  Kathleen Rodriguez  South America  09-10-2022\n",
            "4      C0005         Laura Weber           Asia  15-08-2022\n",
            "\n",
            "Products Data:\n",
            "  ProductID              ProductName     Category   Price\n",
            "0      P001     ActiveWear Biography        Books  169.30\n",
            "1      P002    ActiveWear Smartwatch  Electronics  346.30\n",
            "2      P003  ComfortLiving Biography        Books   44.12\n",
            "3      P004            BookWorld Rug   Home Decor   95.69\n",
            "4      P005          TechPro T-Shirt     Clothing  429.31\n",
            "\n",
            "Transactions Data:\n",
            "  TransactionID CustomerID ProductID   TransactionDate  Quantity  TotalValue  \\\n",
            "0        T00001      C0199      P067  25-08-2024 12:38         1      300.68   \n",
            "1        T00112      C0146      P067  27-05-2024 22:23         1      300.68   \n",
            "2        T00166      C0127      P067  25-04-2024 07:38         1      300.68   \n",
            "3        T00272      C0087      P067  26-03-2024 22:55         2      601.36   \n",
            "4        T00363      C0070      P067  21-03-2024 15:10         3      902.04   \n",
            "\n",
            "    Price  \n",
            "0  300.68  \n",
            "1  300.68  \n",
            "2  300.68  \n",
            "3  300.68  \n",
            "4  300.68  \n"
          ]
        }
      ]
    },
    {
      "cell_type": "code",
      "source": [
        "customer_transactions = pd.merge(customers, transactions, on='CustomerID')\n",
        "customer_transactions = pd.merge(customer_transactions, products, on='ProductID')\n",
        "\n",
        "print(customer_transactions.head())"
      ],
      "metadata": {
        "colab": {
          "base_uri": "https://localhost:8080/"
        },
        "id": "gg84QUKL_34M",
        "outputId": "53cd65ef-60a0-4395-fdc5-562ec63b9c98"
      },
      "execution_count": 19,
      "outputs": [
        {
          "output_type": "stream",
          "name": "stdout",
          "text": [
            "  CustomerID      CustomerName         Region  SignupDate TransactionID  \\\n",
            "0      C0001  Lawrence Carroll  South America  10-07-2022        T00015   \n",
            "1      C0001  Lawrence Carroll  South America  10-07-2022        T00932   \n",
            "2      C0001  Lawrence Carroll  South America  10-07-2022        T00085   \n",
            "3      C0001  Lawrence Carroll  South America  10-07-2022        T00445   \n",
            "4      C0001  Lawrence Carroll  South America  10-07-2022        T00436   \n",
            "\n",
            "  ProductID   TransactionDate  Quantity  TotalValue  Price_x  \\\n",
            "0      P054  19-01-2024 03:12         2      114.60    57.30   \n",
            "1      P022  17-09-2024 09:01         3      412.62   137.54   \n",
            "2      P096  08-04-2024 00:01         2      614.94   307.47   \n",
            "3      P083  07-05-2024 03:11         2      911.44   455.72   \n",
            "4      P029  02-11-2024 17:04         3     1300.92   433.64   \n",
            "\n",
            "             ProductName     Category  Price_y  \n",
            "0     SoundWave Cookbook        Books    57.30  \n",
            "1     HomeSense Wall Art   Home Decor   137.54  \n",
            "2   SoundWave Headphones  Electronics   307.47  \n",
            "3  ActiveWear Smartwatch  Electronics   455.72  \n",
            "4     TechPro Headphones  Electronics   433.64  \n"
          ]
        }
      ]
    },
    {
      "cell_type": "code",
      "source": [
        "customer_features = customer_transactions.groupby('CustomerID').agg({\n",
        "    'TotalValue': 'sum',\n",
        "    'Quantity': 'mean',\n",
        "    'Price_y': 'mean',\n",
        "    'Category': lambda x:x.mode()[0]\n",
        "}).reset_index()\n",
        "\n",
        "print(customer_features.head())"
      ],
      "metadata": {
        "colab": {
          "base_uri": "https://localhost:8080/"
        },
        "id": "3imoRvJGAQcE",
        "outputId": "66ff0af5-057d-4934-982b-62833abfe611"
      },
      "execution_count": 20,
      "outputs": [
        {
          "output_type": "stream",
          "name": "stdout",
          "text": [
            "  CustomerID  TotalValue  Quantity     Price_y     Category\n",
            "0      C0001     3354.52  2.400000  278.334000  Electronics\n",
            "1      C0002     1862.74  2.500000  208.920000     Clothing\n",
            "2      C0003     2725.38  3.500000  195.707500   Home Decor\n",
            "3      C0004     5354.88  2.875000  240.636250        Books\n",
            "4      C0005     2034.24  2.333333  291.603333  Electronics\n"
          ]
        }
      ]
    },
    {
      "cell_type": "code",
      "source": [
        "from sklearn.preprocessing import MinMaxScaler\n",
        "\n",
        "scaler = MinMaxScaler()\n",
        "customer_features[['TotalValue', 'Quantity', 'Price_y']] = scaler.fit_transform(customer_features[['TotalValue', 'Quantity', 'Price_y']])\n",
        "print(customer_features.head())"
      ],
      "metadata": {
        "colab": {
          "base_uri": "https://localhost:8080/"
        },
        "id": "LXUC8yi6ASu_",
        "outputId": "40c7b353-cd8b-4d26-90b0-453f906966f3"
      },
      "execution_count": 22,
      "outputs": [
        {
          "output_type": "stream",
          "name": "stdout",
          "text": [
            "  CustomerID  TotalValue  Quantity   Price_y     Category\n",
            "0      C0001    0.308942  0.466667  0.519414  Electronics\n",
            "1      C0002    0.168095  0.500000  0.367384     Clothing\n",
            "2      C0003    0.249541  0.833333  0.338446   Home Decor\n",
            "3      C0004    0.497806  0.625000  0.436848        Books\n",
            "4      C0005    0.184287  0.444444  0.548476  Electronics\n"
          ]
        }
      ]
    },
    {
      "cell_type": "code",
      "source": [
        "customer_features = pd.get_dummies(customer_features, columns=['Category'], drop_first=True)\n",
        "print(customer_features.head())"
      ],
      "metadata": {
        "colab": {
          "base_uri": "https://localhost:8080/"
        },
        "id": "EkZg5Q-6Af47",
        "outputId": "cb48437f-12fa-4fcd-d5f5-cbcc67ca15b2"
      },
      "execution_count": 23,
      "outputs": [
        {
          "output_type": "stream",
          "name": "stdout",
          "text": [
            "  CustomerID  TotalValue  Quantity   Price_y  Category_Clothing  \\\n",
            "0      C0001    0.308942  0.466667  0.519414              False   \n",
            "1      C0002    0.168095  0.500000  0.367384               True   \n",
            "2      C0003    0.249541  0.833333  0.338446              False   \n",
            "3      C0004    0.497806  0.625000  0.436848              False   \n",
            "4      C0005    0.184287  0.444444  0.548476              False   \n",
            "\n",
            "   Category_Electronics  Category_Home Decor  \n",
            "0                  True                False  \n",
            "1                 False                False  \n",
            "2                 False                 True  \n",
            "3                 False                False  \n",
            "4                  True                False  \n"
          ]
        }
      ]
    },
    {
      "cell_type": "code",
      "source": [
        "from sklearn.metrics.pairwise import cosine_similarity\n",
        "\n",
        "similarity_matrix = cosine_similarity(customer_features.iloc[:, 1:])\n",
        "print(similarity_matrix)"
      ],
      "metadata": {
        "colab": {
          "base_uri": "https://localhost:8080/"
        },
        "id": "s8jDDGkMAnfd",
        "outputId": "b71f24f6-51e4-4ec3-cc1c-ff84796d0224"
      },
      "execution_count": 24,
      "outputs": [
        {
          "output_type": "stream",
          "name": "stdout",
          "text": [
            "[[1.         0.31830244 0.37288421 ... 0.2359945  0.9938562  0.427406  ]\n",
            " [0.31830244 1.         0.35847614 ... 0.95568592 0.28767074 0.96831889]\n",
            " [0.37288421 0.35847614 1.         ... 0.20229317 0.33612445 0.46541912]\n",
            " ...\n",
            " [0.2359945  0.95568592 0.20229317 ... 1.         0.21521258 0.88556006]\n",
            " [0.9938562  0.28767074 0.33612445 ... 0.21521258 1.         0.37671551]\n",
            " [0.427406   0.96831889 0.46541912 ... 0.88556006 0.37671551 1.        ]]\n"
          ]
        }
      ]
    },
    {
      "cell_type": "code",
      "source": [
        "def get_top_similar_customers(customer_id, similarity_matrix, top_n=3):\n",
        "    customer_index = customer_features[customer_features['CustomerID'] == customer_id].index[0]\n",
        "    similarities = similarity_matrix[customer_index]\n",
        "    top_indices = similarities.argsort()[-top_n-1:-1][::-1]  # Get top N similar customers (excluding self)\n",
        "    return [(customer_features.iloc[i]['CustomerID'], similarities[i]) for i in top_indices]\n",
        "\n",
        "lookalike_results = {}\n",
        "for customer_id in customer_features['CustomerID'][:20]:\n",
        "    lookalike_results[customer_id] = get_top_similar_customers(customer_id, similarity_matrix)\n",
        "print(lookalike_results)"
      ],
      "metadata": {
        "colab": {
          "base_uri": "https://localhost:8080/"
        },
        "id": "QVFPm5ymAtCQ",
        "outputId": "b55477ee-d8d7-4273-e8a3-4ed15c05c51c"
      },
      "execution_count": 26,
      "outputs": [
        {
          "output_type": "stream",
          "name": "stdout",
          "text": [
            "{'C0001': [('C0181', 0.9993909765550407), ('C0055', 0.996288368827149), ('C0035', 0.9954509356368294)], 'C0002': [('C0029', 0.9999803544922413), ('C0062', 0.9989387957445973), ('C0030', 0.9982676525966139)], 'C0003': [('C0136', 0.994591084822027), ('C0110', 0.9873039005963182), ('C0160', 0.9847926355091003)], 'C0004': [('C0017', 0.9996588486600123), ('C0087', 0.9988067874939532), ('C0041', 0.9986806572351384)], 'C0005': [('C0140', 0.9989940830900188), ('C0186', 0.998850936632242), ('C0199', 0.9977707437669561)], 'C0006': [('C0174', 0.9994849097311632), ('C0011', 0.9991525347051278), ('C0117', 0.9984388707207734)], 'C0007': [('C0115', 0.9981914167701215), ('C0050', 0.997830965761554), ('C0186', 0.9955086053936825)], 'C0008': [('C0152', 0.9954612312544835), ('C0179', 0.9940032344595229), ('C0164', 0.9922022810136649)], 'C0009': [('C0058', 0.9882490052876706), ('C0103', 0.985788371291185), ('C0198', 0.9832836135103465)], 'C0010': [('C0111', 0.9972569987802165), ('C0134', 0.9968007113180346), ('C0034', 0.9911678366852188)], 'C0011': [('C0064', 0.9995517336208716), ('C0006', 0.9991525347051278), ('C0168', 0.9979889307076563)], 'C0012': [('C0124', 0.9979395866294661), ('C0113', 0.9966891766434526), ('C0037', 0.9963981805185607)], 'C0013': [('C0145', 0.9990458310200367), ('C0099', 0.9989527304234163), ('C0022', 0.9955779619441946)], 'C0014': [('C0025', 0.9931107519810962), ('C0172', 0.9772333055343466), ('C0189', 0.9756281609730496)], 'C0015': [('C0123', 0.9918443224483564), ('C0078', 0.9905527072377406), ('C0044', 0.9853217635244133)], 'C0016': [('C0042', 0.9941637848331949), ('C0107', 0.9855682706033084), ('C0056', 0.9855298374167345)], 'C0017': [('C0004', 0.9996588486600123), ('C0087', 0.9996466693729498), ('C0041', 0.9970126928243258)], 'C0018': [('C0169', 0.9961911372838971), ('C0142', 0.9914461291280684), ('C0027', 0.9888229042547422)], 'C0019': [('C0191', 0.99687911714591), ('C0085', 0.996621531503096), ('C0047', 0.9965518712830529)], 'C0020': [('C0120', 0.9939733649393557), ('C0140', 0.9908339240520605), ('C0197', 0.989279893757409)]}\n"
          ]
        }
      ]
    },
    {
      "cell_type": "code",
      "source": [
        "import csv\n",
        "\n",
        "with open('Lookalike.csv', 'w', newline='') as file:\n",
        "    writer = csv.writer(file)\n",
        "    writer.writerow(['CustomerID', 'LookalikeID', 'SimilarityScore'])\n",
        "\n",
        "    for customer_id, lookalikes in lookalike_results.items():\n",
        "        for lookalike_id, score in lookalikes:\n",
        "            writer.writerow([customer_id, lookalike_id, score])\n",
        "\n",
        "print(\"Lookalike.csv file created successfully!\")"
      ],
      "metadata": {
        "colab": {
          "base_uri": "https://localhost:8080/"
        },
        "id": "0zVl3WjGAvTa",
        "outputId": "0ea27068-c8ac-4d43-e11d-c38f82df76fb"
      },
      "execution_count": 27,
      "outputs": [
        {
          "output_type": "stream",
          "name": "stdout",
          "text": [
            "Lookalike.csv file created successfully!\n"
          ]
        }
      ]
    },
    {
      "cell_type": "code",
      "source": [],
      "metadata": {
        "id": "3EvGVEijAz8G"
      },
      "execution_count": null,
      "outputs": []
    }
  ]
}